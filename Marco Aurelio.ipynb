{
 "cells": [
  {
   "cell_type": "markdown",
   "id": "52640348",
   "metadata": {},
   "source": [
    "# LangChain - pregunta a Marco Aurelio"
   ]
  },
  {
   "cell_type": "code",
   "execution_count": 1,
   "id": "50067549",
   "metadata": {},
   "outputs": [],
   "source": [
    "from langchain.docstore.document import Document\n",
    "import langchain.text_splitter as tsplitter"
   ]
  },
  {
   "cell_type": "code",
   "execution_count": null,
   "id": "7e2c850b",
   "metadata": {},
   "outputs": [],
   "source": [
    "from langchain.vectorstores import Chroma, Pinecone\n",
    "from langchain.embeddings.openai import OpenAIEmbeddings\n",
    "import pinecone"
   ]
  },
  {
   "cell_type": "markdown",
   "id": "054ce51c",
   "metadata": {},
   "source": [
    "## Importar datos\n",
    "\n",
    "Leemos primero el documento, en este caso Meditaciones de Marco Aurelio."
   ]
  },
  {
   "cell_type": "code",
   "execution_count": 2,
   "id": "d34f074e",
   "metadata": {},
   "outputs": [],
   "source": [
    "with open(\"marcoaurelio.txt\", \"r\") as f:\n",
    "  data = f.read()"
   ]
  },
  {
   "cell_type": "markdown",
   "id": "fc17014c",
   "metadata": {},
   "source": [
    "Tenemos que dividir el documento en trozos para poder convertirlos en embeddings"
   ]
  },
  {
   "cell_type": "code",
   "execution_count": 3,
   "id": "191cf457",
   "metadata": {},
   "outputs": [],
   "source": [
    "CHUNK_SIZE = 1000\n",
    "text_splitter = tsplitter.RecursiveCharacterTextSplitter(chunk_size= CHUNK_SIZE, chunk_overlap = 0, length_function= len)\n"
   ]
  },
  {
   "cell_type": "code",
   "execution_count": 5,
   "id": "6d098c2f",
   "metadata": {},
   "outputs": [],
   "source": [
    "texts = text_splitter.create_documents([data])\n"
   ]
  },
  {
   "cell_type": "code",
   "execution_count": 11,
   "id": "47d00034",
   "metadata": {},
   "outputs": [
    {
     "name": "stdout",
     "output_type": "stream",
     "text": [
      "We have 244 chunks\n",
      "1. De mi abuelo Vero: el buen carácter y la serenidad.\n",
      "2. De la reputación y memoria legadas por mi progenitor: el carácter\n",
      "discreto y viril.\n",
      "3. De mi madre: el respeto a los dioses, la generosidad y la abstención no\n",
      "sólo de obrar mal, sino incluso de incurrir en semejante pensamiento; más\n",
      "todavía, la frugalidad en el régimen de vida y el alejamiento del modo de\n",
      "vivir propio de los ricos.\n",
      "4. De mi bisabuelo: el no haber frecuentado las escuelas públicas y\n",
      "haberme servido de buenos maestros en casa, y el haber comprendido que,\n",
      "para tales fines, es preciso gastar con largueza.\n",
      "5. De mi preceptor: el no haber sido de la facción de los Verdes ni de los\n",
      "Azules, ni partidario de los parinularios ni de los escutarios; el soportar las\n",
      "fatigas y tener pocas necesidades; el trabajo con esfuerzo personal y la\n",
      "abstención de excesivas tareas, y la desfavorable acogida a la calumnia.\n",
      "6. De Diogneto: el evitar inútiles ocupaciones; y la desconfianza en lo que\n"
     ]
    }
   ],
   "source": [
    "print(f\"We have {len(texts)} chunks\")\n",
    "print(texts[0].page_content)"
   ]
  },
  {
   "cell_type": "markdown",
   "id": "283ee8aa",
   "metadata": {},
   "source": [
    "## Embeddings y base de datos"
   ]
  },
  {
   "cell_type": "markdown",
   "id": "2f729551",
   "metadata": {},
   "source": [
    "Inicializamos embeddings de OpenAI y Pinecone para BBDD vectorial"
   ]
  },
  {
   "cell_type": "code",
   "execution_count": 18,
   "id": "81a92849",
   "metadata": {},
   "outputs": [],
   "source": [
    "embeddings = OpenAIEmbeddings(openai_api_key=OPENAI_API_KEY)"
   ]
  },
  {
   "cell_type": "code",
   "execution_count": 21,
   "id": "6edca311",
   "metadata": {},
   "outputs": [],
   "source": [
    "pinecone.init(api_key=PINECONE_API_KEY, environment=PINECONE_API_ENV)\n"
   ]
  },
  {
   "cell_type": "code",
   "execution_count": 22,
   "id": "8abfd1e7",
   "metadata": {},
   "outputs": [],
   "source": [
    "index_name = \"langchain1\""
   ]
  },
  {
   "cell_type": "code",
   "execution_count": 24,
   "id": "cd8b4620",
   "metadata": {},
   "outputs": [
    {
     "name": "stdout",
     "output_type": "stream",
     "text": [
      "10\n"
     ]
    }
   ],
   "source": [
    "textssel = texts[:10]"
   ]
  },
  {
   "cell_type": "markdown",
   "id": "0299710f",
   "metadata": {},
   "source": [
    "Preparamos embeddings y los subimos a la BBDD"
   ]
  },
  {
   "cell_type": "code",
   "execution_count": 27,
   "id": "3868ff25",
   "metadata": {},
   "outputs": [],
   "source": [
    "docsearch = Pinecone.from_texts([t.page_content for t in textssel], embeddings, index_name=index_name)"
   ]
  },
  {
   "cell_type": "markdown",
   "id": "cc9dd034",
   "metadata": {},
   "source": [
    "Probamos busqueda por similaridad, hemos usado métrica coseno (cosine similarity)"
   ]
  },
  {
   "cell_type": "code",
   "execution_count": 28,
   "id": "41e16559",
   "metadata": {},
   "outputs": [],
   "source": [
    "query = \"Que concluyó de su padre?\"\n",
    "docs = docsearch.similarity_search(query, k=5)"
   ]
  },
  {
   "cell_type": "markdown",
   "id": "f9874c54",
   "metadata": {},
   "source": [
    "## Parafraseo con OpenAI's gpt"
   ]
  },
  {
   "cell_type": "code",
   "execution_count": 30,
   "id": "bdea3dba",
   "metadata": {},
   "outputs": [],
   "source": [
    "from langchain.llms import OpenAI\n",
    "from langchain.chains.question_answering import load_qa_chain"
   ]
  },
  {
   "cell_type": "code",
   "execution_count": 32,
   "id": "057f1361",
   "metadata": {},
   "outputs": [],
   "source": [
    "llm = OpenAI(temperature=0, openai_api_key=OPENAI_API_KEY)\n",
    "chain = load_qa_chain(llm, chain_type=\"stuff\")"
   ]
  },
  {
   "cell_type": "code",
   "execution_count": 34,
   "id": "8381184b",
   "metadata": {},
   "outputs": [
    {
     "data": {
      "text/plain": [
       "' Su padre fue descrito como teniendo mansedumbre y firmeza serena en las decisiones profundamente examinadas, no vanagloriarse con los honores aparentes, amor al trabajo y perseverancia, estar dispuesto a escuchar a los que podían hacer una contribución útil a la comunidad, distribuir sin vacilaciones a cada uno según su mérito, experiencia para distinguir cuando es necesario un esfuerzo sin desmayo y cuándo hay que relajarse, saber poner fin a las relaciones amorosas con los adolescentes, sociabilidad y consentir a los amigos que no asistieran siempre a sus comidas y que no le acompañaran necesariamente en sus desplazamientos, examen minucioso en las deliberaciones y tenacidad, sin eludir la indagación, satisfecho con las primeras impresiones, y celo por conservar los am'"
      ]
     },
     "execution_count": 34,
     "metadata": {},
     "output_type": "execute_result"
    }
   ],
   "source": [
    "query = \"Que concluyó de su padre?\"\n",
    "docs = docsearch.similarity_search(query, k=5)\n",
    "chain.run(input_documents = docs, question=query)"
   ]
  },
  {
   "cell_type": "markdown",
   "id": "c3bf2355",
   "metadata": {},
   "source": [
    "## Alternativa en memoria (no pinecone)"
   ]
  },
  {
   "cell_type": "code",
   "execution_count": 50,
   "id": "b5cafded",
   "metadata": {},
   "outputs": [],
   "source": [
    "model_path = \"es_core_news_lg\"\n",
    "nlp = spacy.load(model_path)\n",
    "\n",
    "# Define your document as a string in Spanish\n",
    "document = texts[0].page_content\n",
    "# Load the pre-trained Spanish word embeddings\n",
    "nlp = spacy.load(\"es_core_news_lg\")\n",
    "\n",
    "def find_most_similar_chunk(text_chunks, question, k=5):\n",
    "    # Parse the question with spaCy\n",
    "    question_doc = nlp(question)\n",
    "\n",
    "    # Create a dictionary to store the similarity scores\n",
    "    similarity_scores = {}\n",
    "\n",
    "    # Loop through each text chunk\n",
    "    for chunk in text_chunks:\n",
    "        # Parse the text chunk with spaCy\n",
    "        chunk_doc = nlp(chunk)\n",
    "        # Compute the similarity score between the question and the chunk\n",
    "        similarity = question_doc.similarity(chunk_doc)\n",
    "        # Store the similarity score in the dictionary\n",
    "        similarity_scores[chunk] = similarity\n",
    "\n",
    "    # Sort the dictionary by the similarity scores\n",
    "    sorted_scores = sorted(similarity_scores.items(), key=lambda x: x[1], reverse=True)\n",
    "\n",
    "    # Return the most similar chunk\n",
    "    return [sorted_scores[i][0] for i in range(k)]"
   ]
  },
  {
   "cell_type": "code",
   "execution_count": 58,
   "id": "ae86abbc",
   "metadata": {
    "scrolled": false
   },
   "outputs": [
    {
     "name": "stdout",
     "output_type": "stream",
     "text": [
      "1. De mi abuelo Vero: el buen carácter y la serenidad.\n",
      "2. De la reputación y memoria legadas por mi progenitor: el carácter\n",
      "discreto y viril.\n",
      "3. De mi madre: el respeto a los dioses, la generosidad y la abstención no\n",
      "sólo de obrar mal, sino incluso de incurrir en semejante pensamiento; más\n",
      "todavía, la frugalidad en el régimen de vida y el alejamiento del modo de\n",
      "vivir propio de los ricos.\n",
      "4. De mi bisabuelo: el no haber frecuentado las escuelas públicas y\n",
      "haberme servido de buenos maestros en casa, y el haber comprendido que,\n",
      "para tales fines, es preciso gastar con largueza.\n",
      "5. De mi preceptor: el no haber sido de la facción de los Verdes ni de los\n",
      "Azules, ni partidario de los parinularios ni de los escutarios; el soportar las\n",
      "fatigas y tener pocas necesidades; el trabajo con esfuerzo personal y la\n",
      "abstención de excesivas tareas, y la desfavorable acogida a la calumnia.\n",
      "6. De Diogneto: el evitar inútiles ocupaciones; y la desconfianza en lo que\n",
      "\n",
      "13. De Catulo: el no dar poca importancia a la queja de un amigo, aunque\n",
      "casualmente fuera infundada, sino intentar consolidar la relación habitual; el\n",
      "elogio cordial a los maestros, como se recuerda que lo hacían Domicio y\n",
      "Atenódoto; el amor verdadero por los hijos.\n",
      "14. De «mi hermano» Severo: el amor a la familia, a la verdad y la\n",
      "justicia; el haber conocido, gracias a él, a Traseas, Helvidio, Catón, Dión,\n",
      "Bruto; el haber concebido la idea de una constitución basada en la igualdad\n",
      "ante la ley, regida por la equidad y la libertad de expresión igual para todos, y\n",
      "de una realeza que honra y respeta, por encima de todo, Existe en el texto\n",
      "griego una laguna. Farquharson, para salvar el sentido de la frase,\n",
      "sobrentiende: («en la vida de sociedad»). La libertad de sus súbditos. De él\n",
      "también: la uniformidad y constante aplicación al servicio de la filosofía; la\n",
      "beneficencia y generosidad constante; el optimismo y la confianza en la\n",
      "\n",
      "cuentan los que hacen prodigios y hechiceros acerca de encantamientos y\n",
      "conjuración de espíritus, y de otras prácticas semejantes; y el no dedicarme a\n",
      "la cría de codornices ni sentir pasión por esas cosas; el soportar la\n",
      "conversación franca y familiarizarme con la filosofía; y el haber escuchado\n",
      "primero a Baquio, luego a Tandasis y Marciano; haber escrito diálogos en la\n",
      "niñez; y haber deseado el catre cubierto de piel de animal, y todas las demás\n",
      "prácticas vinculadas a la formación helénica.\n",
      "7. De Rústico: el haber concebido la idea de la necesidad de enderezar y\n",
      "cuidar mi carácter; el no haberme desviado a la emulación sofística, ni\n",
      "escribir tratados teóricos ni recitar discursillos de exhortación ni hacerme\n",
      "pasar por persona ascética o filántropo con vistosos alardes; y el haberme\n",
      "apartado de la retórica, de la poética y del refinamiento cortesano. Y el no\n",
      "pasear con la toga por casa ni hacer otras cosas semejantes. También el\n",
      "\n",
      "su amabilidad en...16. De mi padre: la mansedumbre y la firmeza serena en las decisiones\n",
      "profundamente examinadas. El no vanagloriarse con los honores aparentes; el\n",
      "amor al trabajo y la perseverancia; el estar dispuesto a escuchar a los que\n",
      "podían hacer una contribución útil a la comunidad. El distribuir sin\n",
      "vacilaciones a cada uno según su mérito. La experiencia para distinguir\n",
      "cuando es necesario un esfuerzo sin desmayo, y cuándo hay que relajarse. El\n",
      "saber poner fin a las relaciones amorosas con los adolescentes. La\n",
      "sociabilidad y el consentir a los amigos que no asistieran siempre a sus\n",
      "comidas y que no le acompañaran necesariamente en sus desplazamientos;\n",
      "antes bien, quienes le habían dejado momentáneamente por alguna necesidad\n",
      "le encontraban siempre igual. El examen minucioso en las deliberaciones y la\n",
      "tenacidad, sin eludir la indagación, satisfecho con las primeras impresiones.\n",
      "El celo por conservar los amigos, sin mostrar nunca disgusto ni loco\n",
      "\n",
      "en las explicaciones; el haber visto a un hombre que claramente consideraba\n",
      "como la más ínfima de sus cualidades la experiencia y la diligencia en\n",
      "transmitir las explicaciones teóricas; el haber aprendido cómo hay que\n",
      "aceptar los aparentes favores de los amigos, sin dejarse sobornar por ellos ni\n",
      "rechazarlos sin tacto.\n",
      "9. De Sexto: la benevolencia, el ejemplo de una casa gobernada\n",
      "patriarcalmente, el proyecto de vivir conforme a la naturaleza; la dignidad sin\n",
      "afectación; el atender a los amigos con solicitud; la tolerancia con los\n",
      "ignorantes y con los que opinan sin reflexionar; la armonía con todos, de\n",
      "manera que su trato era más agradable que cualquier adulación, y le tenían en\n",
      "aquel preciso momento el máximo respeto; la capacidad de descubrir con\n",
      "método inductivo y ordenado los principios necesarios para la vida; el no\n",
      "haber dado nunca la impresión de cólera ni de ninguna otra pasión, antes\n",
      "bien, el ser el menos afectado por las pasiones y a la vez el que ama más\n"
     ]
    }
   ],
   "source": [
    "print(\"\\n\\n\".join(find_most_similar_chunk([t.page_content for t in textssel], \"Que concluyó de su padre?\")))"
   ]
  }
 ],
 "metadata": {
  "kernelspec": {
   "display_name": "Python 3 (ipykernel)",
   "language": "python",
   "name": "python3"
  },
  "language_info": {
   "codemirror_mode": {
    "name": "ipython",
    "version": 3
   },
   "file_extension": ".py",
   "mimetype": "text/x-python",
   "name": "python",
   "nbconvert_exporter": "python",
   "pygments_lexer": "ipython3",
   "version": "3.10.11"
  }
 },
 "nbformat": 4,
 "nbformat_minor": 5
}
